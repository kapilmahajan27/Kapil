{
 "metadata": {
  "kernelspec": {
   "display_name": "Python 3",
   "language": "python",
   "name": "python3"
  },
  "language_info": {
   "codemirror_mode": {
    "name": "ipython",
    "version": 3
   },
   "file_extension": ".py",
   "mimetype": "text/x-python",
   "name": "python",
   "nbconvert_exporter": "python",
   "pygments_lexer": "ipython3",
   "version": "3.6.3"
  },
  "name": "",
  "signature": "sha256:9d0782a7a7eb7b3000631eee802b77e0d42e42220acd9eef27c8b4eeb46c579d",
  "toc": {
   "nav_menu": {},
   "number_sections": true,
   "sideBar": true,
   "skip_h1_title": false,
   "title_cell": "Table of Contents",
   "title_sidebar": "Contents",
   "toc_cell": true,
   "toc_position": {},
   "toc_section_display": true,
   "toc_window_display": false
  }
 },
 "nbformat": 3,
 "nbformat_minor": 0,
 "worksheets": [
  {
   "cells": [
    {
     "cell_type": "markdown",
     "metadata": {
      "toc": true
     },
     "source": [
      "<h1>Table of Contents<span class=\"tocSkip\"></span></h1>\n",
      "<div class=\"toc\"><ul class=\"toc-item\"><li><span><a href=\"#Facebook-crawler-using-Selenium\" data-toc-modified-id=\"Facebook-crawler-using-Selenium-1\"><span class=\"toc-item-num\">1&nbsp;&nbsp;</span>Facebook crawler using Selenium</a></span><ul class=\"toc-item\"><li><span><a href=\"#Team-members\" data-toc-modified-id=\"Team-members-1.1\"><span class=\"toc-item-num\">1.1&nbsp;&nbsp;</span>Team members</a></span></li><li><span><a href=\"#Importing-necessary-packages\" data-toc-modified-id=\"Importing-necessary-packages-1.2\"><span class=\"toc-item-num\">1.2&nbsp;&nbsp;</span>Importing necessary packages</a></span></li><li><span><a href=\"#Using-Selenium-to-open-Facebook-and-login-using-id-and-password\" data-toc-modified-id=\"Using-Selenium-to-open-Facebook-and-login-using-id-and-password-1.3\"><span class=\"toc-item-num\">1.3&nbsp;&nbsp;</span>Using Selenium to open Facebook and login using id and password</a></span></li><li><span><a href=\"#Search-for-Nike-page-using-Selenium\" data-toc-modified-id=\"Search-for-Nike-page-using-Selenium-1.4\"><span class=\"toc-item-num\">1.4&nbsp;&nbsp;</span>Search for Nike page using Selenium</a></span></li><li><span><a href=\"#Picking-up-target-link\" data-toc-modified-id=\"Picking-up-target-link-1.5\"><span class=\"toc-item-num\">1.5&nbsp;&nbsp;</span>Picking up target link</a></span></li><li><span><a href=\"#Getting-the-URL-for-Nike-photos-page\" data-toc-modified-id=\"Getting-the-URL-for-Nike-photos-page-1.6\"><span class=\"toc-item-num\">1.6&nbsp;&nbsp;</span>Getting the URL for Nike photos page</a></span></li><li><span><a href=\"#Getting-to-the-Nike-photos-page-and-scrolling-down-to-open-more-photos\" data-toc-modified-id=\"Getting-to-the-Nike-photos-page-and-scrolling-down-to-open-more-photos-1.7\"><span class=\"toc-item-num\">1.7&nbsp;&nbsp;</span>Getting to the Nike photos page and scrolling down to open more photos</a></span></li><li><span><a href=\"#Capturing-images---low-definition\" data-toc-modified-id=\"Capturing-images---low-definition-1.8\"><span class=\"toc-item-num\">1.8&nbsp;&nbsp;</span>Capturing images - low definition</a></span></li><li><span><a href=\"#Downloading-first-2-images\" data-toc-modified-id=\"Downloading-first-2-images-1.9\"><span class=\"toc-item-num\">1.9&nbsp;&nbsp;</span>Downloading first 2 images</a></span></li><li><span><a href=\"#Capturing-images---high-definition\" data-toc-modified-id=\"Capturing-images---high-definition-1.10\"><span class=\"toc-item-num\">1.10&nbsp;&nbsp;</span>Capturing images - high definition</a></span></li><li><span><a href=\"#Downloading-2-images---high-definition\" data-toc-modified-id=\"Downloading-2-images---high-definition-1.11\"><span class=\"toc-item-num\">1.11&nbsp;&nbsp;</span>Downloading 2 images - high definition</a></span></li></ul></li></ul></div>"
     ]
    },
    {
     "cell_type": "markdown",
     "metadata": {},
     "source": [
      "# Facebook crawler using Selenium\n",
      "The code crawls through Facebook, logs in using id and password and downloads few photos from a publicly available _Nike_ page.\n",
      "\n",
      "*Python version used is Python 3.x*\n",
      "\n"
     ]
    },
    {
     "cell_type": "heading",
     "level": 2,
     "metadata": {},
     "source": [
      "Importing necessary packages"
     ]
    },
    {
     "cell_type": "code",
     "collapsed": true,
     "input": [
      "from selenium import webdriver\n",
      "from selenium.webdriver.common.keys import Keys\n",
      "from bs4 import BeautifulSoup\n",
      "import requests\n",
      "import time"
     ],
     "language": "python",
     "metadata": {},
     "outputs": [],
     "prompt_number": 154
    },
    {
     "cell_type": "heading",
     "level": 2,
     "metadata": {},
     "source": [
      "Using Selenium to open Facebook and login using id and password"
     ]
    },
    {
     "cell_type": "code",
     "collapsed": true,
     "input": [
      "# Open web driver and login to facebook\n",
      "driver = webdriver.Chrome(\"C:/Users/ndaga/Documents/pwd/chromedriver\") \n",
      "driver.get(\"https://www.facebook.com/\")    #get URL's page source\n",
      "\n",
      "#%%\n",
      "elem = driver.find_element_by_css_selector(\"#email\") \n",
      "elem.clear()   \n",
      "elem.send_keys(\"xxxx@#####.com\")    ### Change the facebook id here\n",
      "\n",
      "elem = driver.find_element_by_css_selector(\"#pass\") \n",
      "elem.clear()    # first clear any pre-populated text in the input field\n",
      "\n",
      "password = \"xxxxxxxxxx\"   ### change the password here\n",
      "elem.send_keys(password) \n",
      "elem.send_keys(Keys.RETURN) \n"
     ],
     "language": "python",
     "metadata": {},
     "outputs": [],
     "prompt_number": 165
    },
    {
     "cell_type": "heading",
     "level": 2,
     "metadata": {},
     "source": [
      "Search for Nike page using Selenium"
     ]
    },
    {
     "cell_type": "code",
     "collapsed": true,
     "input": [
      "search  = driver.find_element_by_css_selector('._1frb')\n",
      "search.clear()\n",
      "search.send_keys('nike')\n",
      "search.send_keys(Keys.RETURN) "
     ],
     "language": "python",
     "metadata": {},
     "outputs": [],
     "prompt_number": 166
    },
    {
     "cell_type": "heading",
     "level": 2,
     "metadata": {},
     "source": [
      "Picking up target link"
     ]
    },
    {
     "cell_type": "code",
     "collapsed": false,
     "input": [
      "pagesrc = driver.page_source\n",
      "soup = BeautifulSoup(pagesrc,\"lxml\")\n",
      "contentpage = soup.find('a',{'class':'_1ii5 _2yez'})['href']\n",
      "print(contentpage)"
     ],
     "language": "python",
     "metadata": {},
     "outputs": [
      {
       "output_type": "stream",
       "stream": "stdout",
       "text": [
        "https://www.facebook.com/nike/?ref=br_rs\n"
       ]
      }
     ],
     "prompt_number": 167
    },
    {
     "cell_type": "heading",
     "level": 2,
     "metadata": {},
     "source": [
      "Getting the URL for Nike photos page"
     ]
    },
    {
     "cell_type": "code",
     "collapsed": false,
     "input": [
      "driver.get(contentpage)\n",
      "pagesrc = driver.page_source\n",
      "soup = BeautifulSoup(pagesrc,\"lxml\")\n",
      "contentpage = soup.find('div',{'data-key':'tab_photos'}).a['href']\n",
      "print(contentpage)"
     ],
     "language": "python",
     "metadata": {},
     "outputs": [
      {
       "output_type": "stream",
       "stream": "stdout",
       "text": [
        "/nike/photos/?ref=page_internal\n"
       ]
      }
     ],
     "prompt_number": 168
    },
    {
     "cell_type": "code",
     "collapsed": false,
     "input": [
      "# driver.get(contentpage)\n",
      "# pagesrc = driver.page_source\n",
      "# soup = BeautifulSoup(pagesrc,\"lxml\")\n",
      "# contentpage = soup.find('div',{'class':'_2yaa _2yap'}).a['href']\n",
      "# print(contentpage)\n",
      "\n",
      "#u_0_w > div._2yaa._2yap > a > span._2yav"
     ],
     "language": "python",
     "metadata": {},
     "outputs": [],
     "prompt_number": null
    },
    {
     "cell_type": "heading",
     "level": 2,
     "metadata": {},
     "source": [
      "Getting to the Nike photos page and scrolling down to open more photos"
     ]
    },
    {
     "cell_type": "code",
     "collapsed": false,
     "input": [
      "driver.get(\"https://www.facebook.com/\" + contentpage)\n",
      "time.sleep(2)\n",
      "driver.execute_script(\"window.scrollTo(0, document.body.scrollHeight);\")\n",
      "time.sleep(2)\n",
      "driver.execute_script(\"window.scrollTo(0, document.body.scrollHeight);\")\n",
      "time.sleep(2)\n",
      "driver.execute_script(\"window.scrollTo(0, document.body.scrollHeight);\")\n",
      "\n",
      "pagesrc = driver.page_source\n",
      "soup = BeautifulSoup(pagesrc,\"lxml\")\n",
      "contentpage = soup.find_all('div',{'class':'_2eec'})"
     ],
     "language": "python",
     "metadata": {},
     "outputs": [],
     "prompt_number": 169
    },
    {
     "cell_type": "heading",
     "level": 2,
     "metadata": {},
     "source": [
      "Capturing images - low definition"
     ]
    },
    {
     "cell_type": "code",
     "collapsed": false,
     "input": [
      "img = contentpage[0].find_all('img', {\"class\":'img', 'height':200})\n",
      "len(img)"
     ],
     "language": "python",
     "metadata": {},
     "outputs": [
      {
       "metadata": {},
       "output_type": "pyout",
       "prompt_number": 170,
       "text": [
        "84"
       ]
      }
     ],
     "prompt_number": 170
    },
    {
     "cell_type": "heading",
     "level": 2,
     "metadata": {},
     "source": [
      "Downloading first 2 images"
     ]
    },
    {
     "cell_type": "code",
     "collapsed": false,
     "input": [
      "for i in range(0,2):\n",
      "    r = requests.get(img[i]['src']) # create HTTP response object\n",
      "    filename = 'C:/Users/' + 'low_' + str(i) + '.png'\n",
      "    with open(filename,'wb') as f:\n",
      "       f.write(r.content)"
     ],
     "language": "python",
     "metadata": {},
     "outputs": [],
     "prompt_number": 171
    },
    {
     "cell_type": "heading",
     "level": 2,
     "metadata": {},
     "source": [
      "Capturing images - high definition"
     ]
    },
    {
     "cell_type": "code",
     "collapsed": false,
     "input": [
      "himg = contentpage[0].find_all('a', {\"rel\":\"theater\"})\n",
      "len(himg)"
     ],
     "language": "python",
     "metadata": {},
     "outputs": [
      {
       "metadata": {},
       "output_type": "pyout",
       "prompt_number": 172,
       "text": [
        "84"
       ]
      }
     ],
     "prompt_number": 172
    },
    {
     "cell_type": "heading",
     "level": 2,
     "metadata": {},
     "source": [
      "Downloading 2 images - high definition"
     ]
    },
    {
     "cell_type": "code",
     "collapsed": false,
     "input": [
      "for i in range(4,6):\n",
      "    driver.get(himg[i]['href'] +'&theater')\n",
      "#    time.sleep(1)\n",
      "    \n",
      "    s = driver.page_source\n",
      "    \n",
      "    sp = BeautifulSoup(s,\"lxml\")\n",
      "    \n",
      "    a1  = sp.find('img', {'class':'spotlight'})\n",
      "    \n",
      "    link = a1['src']\n",
      "    \n",
      "    r = requests.get(link) # create HTTP response object\n",
      "    filename = 'C:/Users/' + 'high_' + str(i) + '.png'\n",
      "    with open(filename,'wb') as f:\n",
      "        f.write(r.content)"
     ],
     "language": "python",
     "metadata": {},
     "outputs": [],
     "prompt_number": 173
    },
    {
     "cell_type": "code",
     "collapsed": true,
     "input": [],
     "language": "python",
     "metadata": {},
     "outputs": [],
     "prompt_number": null
    },
    {
     "cell_type": "code",
     "collapsed": true,
     "input": [],
     "language": "python",
     "metadata": {},
     "outputs": [],
     "prompt_number": null
    },
    {
     "cell_type": "code",
     "collapsed": true,
     "input": [],
     "language": "python",
     "metadata": {},
     "outputs": [],
     "prompt_number": null
    },
    {
     "cell_type": "code",
     "collapsed": true,
     "input": [],
     "language": "python",
     "metadata": {},
     "outputs": [],
     "prompt_number": null
    },
    {
     "cell_type": "code",
     "collapsed": true,
     "input": [],
     "language": "python",
     "metadata": {},
     "outputs": [],
     "prompt_number": null
    },
    {
     "cell_type": "code",
     "collapsed": true,
     "input": [],
     "language": "python",
     "metadata": {},
     "outputs": [],
     "prompt_number": null
    },
    {
     "cell_type": "code",
     "collapsed": true,
     "input": [],
     "language": "python",
     "metadata": {},
     "outputs": [],
     "prompt_number": null
    }
   ],
   "metadata": {}
  }
 ]
}